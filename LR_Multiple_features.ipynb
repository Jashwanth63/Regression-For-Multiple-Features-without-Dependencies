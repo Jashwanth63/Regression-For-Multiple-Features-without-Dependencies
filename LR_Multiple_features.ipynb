{
 "cells": [
  {
   "cell_type": "markdown",
   "metadata": {},
   "source": [
    "# Linear Regression with Multiple Features"
   ]
  },
  {
   "cell_type": "code",
   "execution_count": 1,
   "metadata": {},
   "outputs": [],
   "source": [
    "import numpy as np\n",
    "import matplotlib.pyplot as plt\n",
    "%matplotlib inline\n",
    "from sklearn.datasets import make_regression"
   ]
  },
  {
   "cell_type": "code",
   "execution_count": 277,
   "metadata": {},
   "outputs": [
    {
     "data": {
      "text/plain": [
       "(500, 5)"
      ]
     },
     "execution_count": 277,
     "metadata": {},
     "output_type": "execute_result"
    }
   ],
   "source": [
    "x, y = make_regression(n_samples=500,n_features=5,bias=50,noise = 0.0001)\n",
    "x.shape"
   ]
  },
  {
   "cell_type": "code",
   "execution_count": 280,
   "metadata": {
    "scrolled": true
   },
   "outputs": [
    {
     "data": {
      "text/plain": [
       "[<matplotlib.lines.Line2D at 0x7f4d200c42e8>,\n",
       " <matplotlib.lines.Line2D at 0x7f4d1f76b3c8>,\n",
       " <matplotlib.lines.Line2D at 0x7f4d1f76b898>,\n",
       " <matplotlib.lines.Line2D at 0x7f4d1f76b6d8>,\n",
       " <matplotlib.lines.Line2D at 0x7f4d1f76be80>]"
      ]
     },
     "execution_count": 280,
     "metadata": {},
     "output_type": "execute_result"
    },
    {
     "data": {
      "image/png": "[encoded data removed]",
      "text/plain": [
       "<Figure size 432x288 with 1 Axes>"
      ]
     },
     "metadata": {
      "needs_background": "light"
     },
     "output_type": "display_data"
    }
   ],
   "source": [
    "plt.xlim(-10,10)\n",
    "plt.ylim(-500,500)\n",
    "plt.plot(x, y, 'b.') # For the First feature\n"
   ]
  },
  {
   "cell_type": "code",
   "execution_count": 281,
   "metadata": {},
   "outputs": [],
   "source": [
    "split = int(0.8*x.shape[0])\n",
    "x_train = x[:split]\n",
    "x_test= x[split:]\n",
    "y_train = y[:split]\n",
    "y_test = y[split:]\n"
   ]
  },
  {
   "cell_type": "code",
   "execution_count": 270,
   "metadata": {},
   "outputs": [
    {
     "data": {
      "text/plain": [
       "(400, 5)"
      ]
     },
     "execution_count": 270,
     "metadata": {},
     "output_type": "execute_result"
    }
   ],
   "source": [
    "x_train.shape"
   ]
  },
  {
   "cell_type": "code",
   "execution_count": 271,
   "metadata": {},
   "outputs": [],
   "source": [
    "def hyp(x,w):\n",
    "    h = 0.0\n",
    "    weights = w[1:]\n",
    "    weights = np.asarray(weights)\n",
    "    #h = w[0]\n",
    "    #features = x.shape[1]\n",
    "    h = np.sum(weights*x)\n",
    "    #for i in range(x.shape[0]):\n",
    "     #       h += (weights[i]*x[i])\n",
    "    return (h+w[0])"
   ]
  },
  {
   "cell_type": "code",
   "execution_count": 272,
   "metadata": {},
   "outputs": [],
   "source": [
    "def cost_function(x,w,y_true):\n",
    "    m = x.shape[0]\n",
    "    error = 0.0\n",
    "    for i in range(m): \n",
    "        error += (hyp(x[i],w)-y_true[i])**2\n",
    "    error /=(2*m)\n",
    "    return error"
   ]
  },
  {
   "cell_type": "code",
   "execution_count": 313,
   "metadata": {},
   "outputs": [],
   "source": [
    "def gradient_descent(x,w,y_true,learning_rate=0.1):\n",
    "    err = cost_function(x,w,y_true)\n",
    "    m = x.shape[0]\n",
    "    no_features = x.shape[1]\n",
    "    weights = [0,0,0,0,0,0]\n",
    "    weights = np.asarray(weights,dtype='float')\n",
    "    for n in range(no_features+1):\n",
    "        if(n==0):\n",
    "            for i in range(m):\n",
    "                weights[n] += (y_true[i]-hyp(x[i],w))*1\n",
    "        else:\n",
    "            for i in range(m):\n",
    "                weights[n] += (y_true[i]-hyp(x[i],w))*(np.mean(x[i]))\n",
    "    \n",
    "    #print(weights)\n",
    "    descent_rate = learning_rate*weights\n",
    "    w = w+descent_rate\n",
    "    return err, w\n",
    "    "
   ]
  },
  {
   "cell_type": "markdown",
   "metadata": {},
   "source": [
    "# Training"
   ]
  },
  {
   "cell_type": "code",
   "execution_count": 323,
   "metadata": {},
   "outputs": [
    {
     "data": {
      "text/plain": [
       "[<matplotlib.lines.Line2D at 0x7f4d1efad898>]"
      ]
     },
     "execution_count": 323,
     "metadata": {},
     "output_type": "execute_result"
    },
    {
     "data": {
      "image/png": "[encoded data removed]",
      "text/plain": [
       "<Figure size 432x288 with 1 Axes>"
      ]
     },
     "metadata": {
      "needs_background": "light"
     },
     "output_type": "display_data"
    }
   ],
   "source": [
    "no_features = x_train.shape[1]\n",
    "loss = []\n",
    "weights = []\n",
    "for i in range(no_features+1):\n",
    "    weights.append(np.random.randint(10,20))\n",
    "weights = np.asarray(weights)\n",
    "for i in range(50):\n",
    "    error,weights = gradient_descent(x_train,weights,y_train,learning_rate=0.001)\n",
    "    loss.append(error)\n",
    "    #Note: Here if Learning rate is high the hypothesis overshoots the minima during\n",
    "    #the descent\n",
    "plt.plot(loss)\n",
    "#loss[99]\n",
    "#weights.shape\n",
    "#print(\"Weights:{}\".format(weights))\n",
    "#print(np.mean(weights))"
   ]
  },
  {
   "cell_type": "code",
   "execution_count": null,
   "metadata": {},
   "outputs": [],
   "source": []
  },
  {
   "cell_type": "code",
   "execution_count": 324,
   "metadata": {},
   "outputs": [
    {
     "name": "stdout",
     "output_type": "stream",
     "text": [
      "X parameter:[ 3.   4.   5.2 -0.6 -0.2]\n",
      "Y parameter:[ 774.1440606  1027.52541413 1364.98303837 -165.22881212  -49.07627071]\n"
     ]
    },
    {
     "data": {
      "text/plain": [
       "[<matplotlib.lines.Line2D at 0x7f4d1ef0eac8>]"
      ]
     },
     "execution_count": 324,
     "metadata": {},
     "output_type": "execute_result"
    },
    {
     "data": {
      "image/png": "[encoded data removed]",
      "text/plain": [
       "<Figure size 432x288 with 1 Axes>"
      ]
     },
     "metadata": {
      "needs_background": "light"
     },
     "output_type": "display_data"
    }
   ],
   "source": [
    "x_hyp = [[3,1,3,6,2],[4,1,6,5,4],[5,9,6,7,-1],[6,-5,-4,-1,1],[-7,2,3,1,0]]\n",
    "x_hyp = np.asarray(x_hyp,dtype='float')\n",
    "x_real_deal = np.mean(x_hyp,axis=1)\n",
    "wei = weights[1:]\n",
    "y_hyp = np.zeros(shape=(0,5))\n",
    "#print(y_hyp.shape)\n",
    "#np.zeros()\n",
    "for i in range(x_train.shape[1]):\n",
    "    y_hyp = np.append(y_hyp,np.sum(wei*x_hyp[i]))\n",
    "print(\"X parameter:{}\".format(x_real_deal))\n",
    "print(\"Y parameter:{}\".format(y_hyp))\n",
    "    #me    \n",
    "plt.plot(x,y,'r.')\n",
    "plt.xlim(-10,10)\n",
    "plt.ylim(-200,500)\n",
    "\n",
    "plt.plot(x_real_deal,y_hyp,'b')"
   ]
  },
  {
   "cell_type": "markdown",
   "metadata": {},
   "source": [
    "Note that Gradient_descent(...) and Cost_function(...) are two different functions entirely.\n",
    "They dont perform the same operation but both are required. Cost_function is required plotting the error as the weights are changed for accuracy by the gradient_descent, so looping through the entire training dataset in both functions is a necessity for visualisation of how the gradient descent reduces the error."
   ]
  }
 ],
 "metadata": {
  "kernelspec": {
   "display_name": "Python 3",
   "language": "python",
   "name": "python3"
  },
  "language_info": {
   "codemirror_mode": {
    "name": "ipython",
    "version": 3
   },
   "file_extension": ".py",
   "mimetype": "text/x-python",
   "name": "python",
   "nbconvert_exporter": "python",
   "pygments_lexer": "ipython3",
   "version": "3.7.3"
  }
 },
 "nbformat": 4,
 "nbformat_minor": 2
}
